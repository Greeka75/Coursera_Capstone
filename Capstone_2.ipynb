{
 "cells": [
  {
   "cell_type": "code",
   "execution_count": 1,
   "metadata": {},
   "outputs": [],
   "source": [
    "import numpy as np\n",
    "import pandas as pd\n",
    "\n",
    "import requests\n",
    "import re"
   ]
  },
  {
   "cell_type": "code",
   "execution_count": 3,
   "metadata": {},
   "outputs": [],
   "source": [
    "url='https://en.wikipedia.org/wiki/List_of_postal_codes_of_Canada:_M'\n",
    "\n",
    "results = str(requests.get(url).text)\n",
    "\n",
    "with open('postal_code.txt','w') as output_file:\n",
    "    output_file.write(results[results.find('<table'):results.find('</table')])"
   ]
  },
  {
   "cell_type": "code",
   "execution_count": 58,
   "metadata": {},
   "outputs": [
    {
     "data": {
      "text/plain": [
       "(103, 3)"
      ]
     },
     "execution_count": 58,
     "metadata": {},
     "output_type": "execute_result"
    }
   ],
   "source": [
    "column_names = ['PostalCode', 'Borough', 'Neighborhood'] \n",
    "\n",
    "# instantiate the dataframe\n",
    "postalcodes = pd.DataFrame(columns=column_names)\n",
    "\n",
    "\n",
    "    \n",
    "with open('postal_code.txt','r') as input_file:\n",
    "    for line in input_file:\n",
    "        if re.match('<tr>',line) :\n",
    "            m=re.search('>(.*)<',input_file.readline())\n",
    "            post_code=m.group(1)\n",
    "            m=re.search('<td>(<a.*\">)?(.*?)(</a>)?</td>',input_file.readline())\n",
    "            borough=m.group(2)\n",
    "            m=re.search('<td>(<a.*\">)?(.*?)(</a>)?\\\\n',input_file.readline())\n",
    "            neighbourhood=m.group(2)\n",
    "            \n",
    "            postalcodes=postalcodes.append( {'PostalCode': post_code,\n",
    "                                             'Borough': borough,\n",
    "                                             'Neighborhood': neighbourhood}, ignore_index=True)\n",
    "            \n",
    "pc_df = postalcodes[postalcodes['Borough'] != 'Not assigned'].reset_index(drop=True)\n",
    "\n",
    "pc_df.loc[pc_df['Neighborhood'] == 'Not assigned', 'Neighborhood' ] = pc_df['Borough']\n",
    "\n",
    "\n",
    "pc_fn=pc_df.groupby(['PostalCode','Borough'])['Neighborhood'].apply(', '.join).reset_index()\n",
    "\n",
    "pc_fn.shape\n",
    "\n"
   ]
  },
  {
   "cell_type": "code",
   "execution_count": null,
   "metadata": {},
   "outputs": [],
   "source": []
  }
 ],
 "metadata": {
  "kernelspec": {
   "display_name": "Python 3",
   "language": "python",
   "name": "python3"
  },
  "language_info": {
   "codemirror_mode": {
    "name": "ipython",
    "version": 3
   },
   "file_extension": ".py",
   "mimetype": "text/x-python",
   "name": "python",
   "nbconvert_exporter": "python",
   "pygments_lexer": "ipython3",
   "version": "3.6.5"
  }
 },
 "nbformat": 4,
 "nbformat_minor": 2
}
